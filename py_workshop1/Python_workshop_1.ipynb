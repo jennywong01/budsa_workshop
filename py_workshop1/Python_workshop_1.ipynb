{
  "nbformat": 4,
  "nbformat_minor": 0,
  "metadata": {
    "colab": {
      "name": "Python_workshop_1.ipynb",
      "provenance": [],
      "collapsed_sections": [
        "QXbvG5XuZi2R"
      ]
    },
    "kernelspec": {
      "name": "python3",
      "display_name": "Python 3"
    },
    "language_info": {
      "name": "python"
    }
  },
  "cells": [
    {
      "cell_type": "markdown",
      "metadata": {
        "id": "mpk0t9kSW0ny"
      },
      "source": [
        "Hi guys! Welcome to the Intro to Python Workshop #1. Thank you for coming!\n",
        "This workshop is designed for those who have 0 coding experience, or those who have taken CS111 but looking for a brief review of basics of Python.\n",
        "\n",
        "---\n",
        "\n",
        "The Intro to Python workshop will be splitted into 2 parts: (subject to change!)\n",
        "\n",
        "Workshop 1:\n",
        "*   Basic syntax\n",
        "*   Data types, Variables, and Operations\n",
        "*   Conditional statements (If/else)\n",
        "*   Loops\n",
        "\n",
        "\n",
        "\n",
        "Without further ado, let's get started!\n",
        "\n",
        "\n",
        "\n"
      ]
    },
    {
      "cell_type": "markdown",
      "metadata": {
        "id": "LMMVnI66XT58"
      },
      "source": [
        "\n",
        "\n",
        "---\n",
        "\n",
        "\n",
        "# ***Basic syntax***\n",
        "\n",
        "\n",
        "*   Comment\n",
        "*   Math operations\n",
        "*   Whitespace\n",
        "*   Variable\n",
        "*   etc.\n",
        "\n"
      ]
    },
    {
      "cell_type": "code",
      "metadata": {
        "colab": {
          "base_uri": "https://localhost:8080/"
        },
        "id": "3529WI6AWqRv",
        "outputId": "9f85dbe9-62fe-4bed-bc43-f954cd12c203"
      },
      "source": [
        "print(\"Hello world!\")\n",
        "\n",
        "# Print the statement BUDSA\n",
        "print('BUDSA')"
      ],
      "execution_count": null,
      "outputs": [
        {
          "output_type": "stream",
          "name": "stdout",
          "text": [
            "Hello world!\n",
            "BUDSA\n"
          ]
        }
      ]
    },
    {
      "cell_type": "markdown",
      "metadata": {
        "id": "EsY4ZkU_ssjW"
      },
      "source": [
        "In python, the type of a variable changes along with the change of value assigned to it"
      ]
    },
    {
      "cell_type": "code",
      "metadata": {
        "colab": {
          "base_uri": "https://localhost:8080/"
        },
        "id": "fnspTGgSskXT",
        "outputId": "d7c1ac70-0e01-41ef-e9d4-c4a77ab7d8fc"
      },
      "source": [
        "a = 5.5\n",
        "type(a)"
      ],
      "execution_count": null,
      "outputs": [
        {
          "output_type": "execute_result",
          "data": {
            "text/plain": [
              "float"
            ]
          },
          "metadata": {},
          "execution_count": 11
        }
      ]
    },
    {
      "cell_type": "markdown",
      "metadata": {
        "id": "QXbvG5XuZi2R"
      },
      "source": [
        "\n",
        "\n",
        "---\n",
        "\n",
        "\n",
        "# ***Data types, Operations***\n",
        "### Data types: Integer, Float, String, Boolean\n",
        "\n",
        "\n",
        "---\n",
        "\n",
        "\n",
        "*Integer*\n",
        "*   As its name suggests, is integer number with no decimal points\n",
        "\n"
      ]
    },
    {
      "cell_type": "code",
      "metadata": {
        "colab": {
          "base_uri": "https://localhost:8080/"
        },
        "id": "TYE90-EUmjm8",
        "outputId": "147156a6-7aa2-4a93-ea12-08234e27630a"
      },
      "source": [
        "type(10)"
      ],
      "execution_count": null,
      "outputs": [
        {
          "output_type": "execute_result",
          "data": {
            "text/plain": [
              "int"
            ]
          },
          "metadata": {},
          "execution_count": 3
        }
      ]
    },
    {
      "cell_type": "code",
      "metadata": {
        "colab": {
          "base_uri": "https://localhost:8080/"
        },
        "id": "ntb2e8IwZsGl",
        "outputId": "c703ae40-8808-47a2-b5b0-67a019db46a2"
      },
      "source": [
        "# We can do math operations with integers:\n",
        "3 *4 "
      ],
      "execution_count": null,
      "outputs": [
        {
          "output_type": "execute_result",
          "data": {
            "text/plain": [
              "12"
            ]
          },
          "metadata": {},
          "execution_count": 5
        }
      ]
    },
    {
      "cell_type": "markdown",
      "metadata": {
        "id": "T5uByCUGceqs"
      },
      "source": [
        "\n",
        "\n",
        "---\n",
        "*Float*\n",
        "*   Float is used for assigning decimal values\n",
        "\n"
      ]
    },
    {
      "cell_type": "code",
      "metadata": {
        "colab": {
          "base_uri": "https://localhost:8080/"
        },
        "id": "WKiESS8xmpww",
        "outputId": "504e14f5-edbd-4eae-9658-33019c34644b"
      },
      "source": [
        "type(1.1)"
      ],
      "execution_count": null,
      "outputs": [
        {
          "output_type": "execute_result",
          "data": {
            "text/plain": [
              "float"
            ]
          },
          "metadata": {},
          "execution_count": 50
        }
      ]
    },
    {
      "cell_type": "code",
      "metadata": {
        "colab": {
          "base_uri": "https://localhost:8080/"
        },
        "id": "UCj6lZuzcOh1",
        "outputId": "96824327-0541-4ac4-ba6d-f1c86ffa0a26"
      },
      "source": [
        "# Similar to Integer, we can also do math operations with floats:\n",
        "1.1**2"
      ],
      "execution_count": null,
      "outputs": [
        {
          "output_type": "execute_result",
          "data": {
            "text/plain": [
              "1.2100000000000002"
            ]
          },
          "metadata": {},
          "execution_count": 7
        }
      ]
    },
    {
      "cell_type": "code",
      "metadata": {
        "colab": {
          "base_uri": "https://localhost:8080/"
        },
        "id": "RbXnm5uYrGIe",
        "outputId": "1ed5c954-916a-4ea5-ffe0-032bb1d93f03"
      },
      "source": [
        "# A more complicated math:\n",
        "(10 + 1.2) * (1472 / 1.2) ** 1.2"
      ],
      "execution_count": null,
      "outputs": [
        {
          "output_type": "execute_result",
          "data": {
            "text/plain": [
              "56975.73014961618"
            ]
          },
          "metadata": {},
          "execution_count": 66
        }
      ]
    },
    {
      "cell_type": "markdown",
      "metadata": {
        "id": "7kKFaG1mTA8F"
      },
      "source": [
        "\n",
        "\n",
        "---\n",
        "*Boolean*\n",
        "\n",
        "*   We often want to know if an expression is true or false, especially when it comes to conditional statements!\n",
        "*   Booleans return either True or False\n",
        "\n",
        "\n"
      ]
    },
    {
      "cell_type": "code",
      "metadata": {
        "colab": {
          "base_uri": "https://localhost:8080/"
        },
        "id": "D74-1WBumwKm",
        "outputId": "2f8b74c3-1e64-4e5a-e122-1a991cdb79d1"
      },
      "source": [
        "type(True)"
      ],
      "execution_count": null,
      "outputs": [
        {
          "output_type": "execute_result",
          "data": {
            "text/plain": [
              "bool"
            ]
          },
          "metadata": {},
          "execution_count": 51
        }
      ]
    },
    {
      "cell_type": "code",
      "metadata": {
        "colab": {
          "base_uri": "https://localhost:8080/"
        },
        "id": "8UnxY-Z6VK9k",
        "outputId": "b3cc1036-ac4c-481a-80cd-9f2a397d5417"
      },
      "source": [
        "# We can use Boolean to check whether we got the answer correct\n",
        "1 + 1 == 3"
      ],
      "execution_count": null,
      "outputs": [
        {
          "output_type": "execute_result",
          "data": {
            "text/plain": [
              "False"
            ]
          },
          "metadata": {},
          "execution_count": 13
        }
      ]
    },
    {
      "cell_type": "markdown",
      "metadata": {
        "id": "lhaBDS5g_d4e"
      },
      "source": [
        "\n",
        "\n",
        "---\n",
        "*String*\n",
        "*   String is a sequence of character\n",
        "*   Use quotation marks to make stuff strings\n",
        "*   Doesn't really matter if you are using double quotation marks or single quotation marks\n"
      ]
    },
    {
      "cell_type": "code",
      "metadata": {
        "colab": {
          "base_uri": "https://localhost:8080/"
        },
        "id": "9O2S6LguXqmn",
        "outputId": "8cc2e595-5362-4fa5-c0c6-3d006e4a35f2"
      },
      "source": [
        "type(3)"
      ],
      "execution_count": null,
      "outputs": [
        {
          "output_type": "execute_result",
          "data": {
            "text/plain": [
              "int"
            ]
          },
          "metadata": {},
          "execution_count": 26
        }
      ]
    },
    {
      "cell_type": "code",
      "metadata": {
        "colab": {
          "base_uri": "https://localhost:8080/"
        },
        "id": "rB2xvYHWYYiQ",
        "outputId": "cd5c8d6c-c2f4-4249-81d2-218d2a52015c"
      },
      "source": [
        "type(\"3\")"
      ],
      "execution_count": null,
      "outputs": [
        {
          "output_type": "execute_result",
          "data": {
            "text/plain": [
              "str"
            ]
          },
          "metadata": {},
          "execution_count": 14
        }
      ]
    },
    {
      "cell_type": "code",
      "metadata": {
        "colab": {
          "base_uri": "https://localhost:8080/"
        },
        "id": "7IDjInA_YgJT",
        "outputId": "055e11bd-861a-4e38-e524-101fd631e31a"
      },
      "source": [
        "type(True)"
      ],
      "execution_count": null,
      "outputs": [
        {
          "output_type": "execute_result",
          "data": {
            "text/plain": [
              "bool"
            ]
          },
          "metadata": {},
          "execution_count": 27
        }
      ]
    },
    {
      "cell_type": "code",
      "metadata": {
        "colab": {
          "base_uri": "https://localhost:8080/"
        },
        "id": "v19kWqx6YhfW",
        "outputId": "5a13e34a-1baa-403e-9e76-d3f7d681b3d1"
      },
      "source": [
        "type('True')"
      ],
      "execution_count": null,
      "outputs": [
        {
          "output_type": "execute_result",
          "data": {
            "text/plain": [
              "str"
            ]
          },
          "metadata": {},
          "execution_count": 52
        }
      ]
    },
    {
      "cell_type": "markdown",
      "metadata": {
        "id": "wy8ibRIXZ2lQ"
      },
      "source": [
        "*   For Strings, there are much more operation we can do to them:\n",
        "\n"
      ]
    },
    {
      "cell_type": "code",
      "metadata": {
        "colab": {
          "base_uri": "https://localhost:8080/"
        },
        "id": "FZjwqdUHhGBh",
        "outputId": "cd8bce84-1c80-4608-b476-1e13a8072669"
      },
      "source": [
        "# We can concat 2 strings together\n",
        "print(\"My major is \" + \"computer science\")"
      ],
      "execution_count": null,
      "outputs": [
        {
          "output_type": "stream",
          "name": "stdout",
          "text": [
            "My major is computer science\n"
          ]
        }
      ]
    },
    {
      "cell_type": "code",
      "metadata": {
        "colab": {
          "base_uri": "https://localhost:8080/"
        },
        "id": "5Zg6HK1he1P4",
        "outputId": "f14d12b8-4ec7-4476-e0bc-4bbba6a4722b"
      },
      "source": [
        "# But we can't concat a string with other data type!\n",
        "print(\"Today is September \" + str(20))"
      ],
      "execution_count": null,
      "outputs": [
        {
          "output_type": "stream",
          "name": "stdout",
          "text": [
            "Today is September 20\n"
          ]
        }
      ]
    },
    {
      "cell_type": "code",
      "metadata": {
        "colab": {
          "base_uri": "https://localhost:8080/"
        },
        "id": "n14QbxrfvAND",
        "outputId": "10753f82-b700-4120-d34f-72afdbca5ebd"
      },
      "source": [
        "string = \"Hello World! \"\n",
        "print(string)"
      ],
      "execution_count": null,
      "outputs": [
        {
          "output_type": "stream",
          "name": "stdout",
          "text": [
            "Hello World! \n"
          ]
        }
      ]
    },
    {
      "cell_type": "code",
      "metadata": {
        "colab": {
          "base_uri": "https://localhost:8080/",
          "height": 52
        },
        "id": "eyXsZ_chiPRS",
        "outputId": "965aa7a9-126d-4aff-a73d-e491a9e0e61e"
      },
      "source": [
        "# We can duplicate the string\n",
        "string * 10"
      ],
      "execution_count": null,
      "outputs": [
        {
          "output_type": "execute_result",
          "data": {
            "application/vnd.google.colaboratory.intrinsic+json": {
              "type": "string"
            },
            "text/plain": [
              "'Hello World! Hello World! Hello World! Hello World! Hello World! Hello World! Hello World! Hello World! Hello World! Hello World! '"
            ]
          },
          "metadata": {},
          "execution_count": 84
        }
      ]
    },
    {
      "cell_type": "code",
      "metadata": {
        "colab": {
          "base_uri": "https://localhost:8080/"
        },
        "id": "dh97wtuyiddW",
        "outputId": "f4e42155-9851-41b0-8924-3e3672a16950"
      },
      "source": [
        "# Split it by space\n",
        "string.split(\" \")"
      ],
      "execution_count": null,
      "outputs": [
        {
          "output_type": "execute_result",
          "data": {
            "text/plain": [
              "['Hello', 'World!', '']"
            ]
          },
          "metadata": {},
          "execution_count": 83
        }
      ]
    },
    {
      "cell_type": "code",
      "metadata": {
        "colab": {
          "base_uri": "https://localhost:8080/",
          "height": 35
        },
        "id": "cLoKUXy7i6ki",
        "outputId": "aca90b75-a487-437c-e702-824262d14a69"
      },
      "source": [
        "# Make a string all lower/ upper case\n",
        "string.upper()"
      ],
      "execution_count": null,
      "outputs": [
        {
          "output_type": "execute_result",
          "data": {
            "application/vnd.google.colaboratory.intrinsic+json": {
              "type": "string"
            },
            "text/plain": [
              "'HELLO WORLD! '"
            ]
          },
          "metadata": {},
          "execution_count": 85
        }
      ]
    },
    {
      "cell_type": "code",
      "metadata": {
        "colab": {
          "base_uri": "https://localhost:8080/"
        },
        "id": "YFEFhz83f5j8",
        "outputId": "a1114ba4-bfbf-46c2-f17e-c0792ad30789"
      },
      "source": [
        "# Know how many characters are there in the string\n",
        "len(string)"
      ],
      "execution_count": null,
      "outputs": [
        {
          "output_type": "execute_result",
          "data": {
            "text/plain": [
              "13"
            ]
          },
          "metadata": {},
          "execution_count": 23
        }
      ]
    },
    {
      "cell_type": "code",
      "metadata": {
        "id": "yK0HZcozkS5V"
      },
      "source": [
        "# For more operations, we can also search for it using help()\n",
        "help(str)"
      ],
      "execution_count": null,
      "outputs": []
    },
    {
      "cell_type": "markdown",
      "metadata": {
        "id": "gaKxS_NfkxKF"
      },
      "source": [
        "### Data types: List, Dictionary\n",
        "\n",
        "---\n",
        "\n",
        "\n",
        "*List*\n",
        "*   As its name suggests, it is a list\n",
        "*   It can be a list of any data types, means we can have a list containing a string, an integer, and a boolean, and so on"
      ]
    },
    {
      "cell_type": "code",
      "metadata": {
        "id": "gFsd9Cx3nRBl"
      },
      "source": [
        "# List syntax\n",
        "list0 = ['a', 3, False]"
      ],
      "execution_count": null,
      "outputs": []
    },
    {
      "cell_type": "code",
      "metadata": {
        "colab": {
          "base_uri": "https://localhost:8080/"
        },
        "id": "uq5SZOPRmYgD",
        "outputId": "a63d3e37-edcd-4d33-8dee-732771520c92"
      },
      "source": [
        "type(list0)"
      ],
      "execution_count": null,
      "outputs": [
        {
          "output_type": "execute_result",
          "data": {
            "text/plain": [
              "list"
            ]
          },
          "metadata": {},
          "execution_count": 3
        }
      ]
    },
    {
      "cell_type": "markdown",
      "metadata": {
        "id": "khTIRAJgqJmn"
      },
      "source": [
        "\n",
        "*   For list in Python, there's a lot we can do:\n",
        "\n",
        "\n",
        "\n"
      ]
    },
    {
      "cell_type": "code",
      "metadata": {
        "colab": {
          "base_uri": "https://localhost:8080/"
        },
        "id": "ILf0e8_yvgEi",
        "outputId": "ff9091c1-c34e-441a-82cb-79e118cafaff"
      },
      "source": [
        "# Create a new empty list:\n",
        "list1 = []\n",
        "list1"
      ],
      "execution_count": null,
      "outputs": [
        {
          "output_type": "execute_result",
          "data": {
            "text/plain": [
              "[]"
            ]
          },
          "metadata": {},
          "execution_count": 9
        }
      ]
    },
    {
      "cell_type": "code",
      "metadata": {
        "colab": {
          "base_uri": "https://localhost:8080/"
        },
        "id": "MV0PeNXyqd9E",
        "outputId": "c8123396-9b8f-442e-b2cc-c87ed86b2bd3"
      },
      "source": [
        "# Add new element into a list:\n",
        "list1.append(\"BUDSA\")\n",
        "list1"
      ],
      "execution_count": null,
      "outputs": [
        {
          "output_type": "execute_result",
          "data": {
            "text/plain": [
              "['BUDSA']"
            ]
          },
          "metadata": {},
          "execution_count": 10
        }
      ]
    },
    {
      "cell_type": "code",
      "metadata": {
        "colab": {
          "base_uri": "https://localhost:8080/"
        },
        "id": "e9Pn4_5cqbMW",
        "outputId": "73824b5e-dd7f-482e-ea7a-defae9a4e4bc"
      },
      "source": [
        "# Add multiple new elements into the list:\n",
        "list1.extend([\"Jenny\", \"Christina\", \"Bob\", \"Dave\", \"Emma\"])\n",
        "list1"
      ],
      "execution_count": null,
      "outputs": [
        {
          "output_type": "execute_result",
          "data": {
            "text/plain": [
              "['BUDSA', 'Jenny', 'Christina', 'Bob', 'Dave', 'Emma']"
            ]
          },
          "metadata": {},
          "execution_count": 11
        }
      ]
    },
    {
      "cell_type": "code",
      "metadata": {
        "colab": {
          "base_uri": "https://localhost:8080/"
        },
        "id": "rkIPd0DHwlcU",
        "outputId": "ac750e90-74c2-4189-e98b-dfa3bf7f9350"
      },
      "source": [
        "# Want to know how many elements are there?\n",
        "len(list1)"
      ],
      "execution_count": null,
      "outputs": [
        {
          "output_type": "execute_result",
          "data": {
            "text/plain": [
              "3"
            ]
          },
          "metadata": {},
          "execution_count": 8
        }
      ]
    },
    {
      "cell_type": "markdown",
      "metadata": {
        "id": "HMk8kaZTxLQk"
      },
      "source": [
        "\n",
        "*   For any list, we have an order for the elements, starts from 0\n",
        "*   We use this order to indicate element in this list, called **index**\n",
        "\n"
      ]
    },
    {
      "cell_type": "code",
      "metadata": {
        "colab": {
          "base_uri": "https://localhost:8080/",
          "height": 35
        },
        "id": "ZnL4gkQwxJbX",
        "outputId": "ec73fae5-f8cd-4458-ab38-901f25afb9a6"
      },
      "source": [
        "list1[2]"
      ],
      "execution_count": null,
      "outputs": [
        {
          "output_type": "execute_result",
          "data": {
            "application/vnd.google.colaboratory.intrinsic+json": {
              "type": "string"
            },
            "text/plain": [
              "'Christina'"
            ]
          },
          "metadata": {},
          "execution_count": 11
        }
      ]
    },
    {
      "cell_type": "markdown",
      "metadata": {
        "id": "re2vehUtdY0f"
      },
      "source": [
        "Remember the data type String that we mentioned before? We can treat String as List using index to indicate characters in the string."
      ]
    },
    {
      "cell_type": "code",
      "metadata": {
        "colab": {
          "base_uri": "https://localhost:8080/",
          "height": 35
        },
        "id": "PHPaZmOndxYJ",
        "outputId": "d1c4aac9-e897-4836-a637-fe77882b9d68"
      },
      "source": [
        "string[-1]"
      ],
      "execution_count": null,
      "outputs": [
        {
          "output_type": "execute_result",
          "data": {
            "application/vnd.google.colaboratory.intrinsic+json": {
              "type": "string"
            },
            "text/plain": [
              "' '"
            ]
          },
          "metadata": {},
          "execution_count": 24
        }
      ]
    },
    {
      "cell_type": "markdown",
      "metadata": {
        "id": "D44DC0OoeJqw"
      },
      "source": [
        "What if we want to select a range of elements of this list? This element selection process is called **sequence slicing**, using square brackets."
      ]
    },
    {
      "cell_type": "code",
      "metadata": {
        "colab": {
          "base_uri": "https://localhost:8080/"
        },
        "id": "JFCRtQ9VinUc",
        "outputId": "ae26d01d-12e0-41b9-8c9e-5edb8768caee"
      },
      "source": [
        "list1"
      ],
      "execution_count": null,
      "outputs": [
        {
          "output_type": "execute_result",
          "data": {
            "text/plain": [
              "['BUDSA', 'Jenny', 'Christina', 'Bob', 'Dave', 'Emma']"
            ]
          },
          "metadata": {},
          "execution_count": 34
        }
      ]
    },
    {
      "cell_type": "code",
      "metadata": {
        "colab": {
          "base_uri": "https://localhost:8080/"
        },
        "id": "EUJvFCVQhqcK",
        "outputId": "b5d78926-4508-492b-9db8-72ced3b484ae"
      },
      "source": [
        "# The element at starting index is included in the selection\n",
        "# While the element at ending index is excluded from the selection\n",
        "slicing1 = list1[2:4]\n",
        "slicing1"
      ],
      "execution_count": null,
      "outputs": [
        {
          "output_type": "execute_result",
          "data": {
            "text/plain": [
              "['Christina', 'Bob']"
            ]
          },
          "metadata": {},
          "execution_count": 39
        }
      ]
    },
    {
      "cell_type": "code",
      "metadata": {
        "colab": {
          "base_uri": "https://localhost:8080/"
        },
        "id": "9TsQuZpQkjj4",
        "outputId": "34da94a9-7060-4e51-b5b9-dbe1db65bd66"
      },
      "source": [
        "slicing2 = list1[2:]\n",
        "slicing2"
      ],
      "execution_count": null,
      "outputs": [
        {
          "output_type": "execute_result",
          "data": {
            "text/plain": [
              "['Christina', 'Bob', 'Dave', 'Emma']"
            ]
          },
          "metadata": {},
          "execution_count": 38
        }
      ]
    },
    {
      "cell_type": "code",
      "metadata": {
        "colab": {
          "base_uri": "https://localhost:8080/"
        },
        "id": "K6cfwN7Hkt4n",
        "outputId": "08c3d079-3ea8-4700-af4c-c86e46de4e44"
      },
      "source": [
        "slicing3 = list1[:4]\n",
        "slicing3"
      ],
      "execution_count": null,
      "outputs": [
        {
          "output_type": "execute_result",
          "data": {
            "text/plain": [
              "['BUDSA', 'Jenny', 'Christina', 'Bob']"
            ]
          },
          "metadata": {},
          "execution_count": 41
        }
      ]
    },
    {
      "cell_type": "markdown",
      "metadata": {
        "id": "_fGU5jcRlGjF"
      },
      "source": [
        "---\n",
        "\n",
        "\n",
        "*Dictionary*\n",
        "*   Dictionary is a series of key-value pairs\n",
        "*   Namely, every element in a dictionary is a key-value pair"
      ]
    },
    {
      "cell_type": "code",
      "metadata": {
        "colab": {
          "base_uri": "https://localhost:8080/"
        },
        "id": "bETU754CoqZM",
        "outputId": "3ceedd15-c8b0-4719-97a8-6cc051384a0d"
      },
      "source": [
        "# For example, we want to record the exam result of students of a Python class\n",
        "scores = {\"Alice\": 100, \"Bob\": 90, \"Charlie\": 95, \"David\": 100}\n",
        "scores"
      ],
      "execution_count": null,
      "outputs": [
        {
          "output_type": "execute_result",
          "data": {
            "text/plain": [
              "{'Alice': 100, 'Bob': 90, 'Charlie': 95, 'David': 100}"
            ]
          },
          "metadata": {},
          "execution_count": 1
        }
      ]
    },
    {
      "cell_type": "markdown",
      "metadata": {
        "id": "kkEslXpaoron"
      },
      "source": [
        "*   In a dictionary, the **key must be unique**, thus, we can use the key to find the value correspond to it"
      ]
    },
    {
      "cell_type": "code",
      "metadata": {
        "colab": {
          "base_uri": "https://localhost:8080/"
        },
        "id": "Tqu1F2eupaRO",
        "outputId": "e4f6095d-052d-4691-b1c0-f90cc7128fb7"
      },
      "source": [
        "# Want to know what score does Charlie get\n",
        "scores[\"Charlie\"]"
      ],
      "execution_count": null,
      "outputs": [
        {
          "output_type": "execute_result",
          "data": {
            "text/plain": [
              "95"
            ]
          },
          "metadata": {},
          "execution_count": 3
        }
      ]
    },
    {
      "cell_type": "code",
      "metadata": {
        "colab": {
          "base_uri": "https://localhost:8080/"
        },
        "id": "ZeHHhVpopy9N",
        "outputId": "a0dacafe-63e3-4363-e04c-1cfbcd2afbc9"
      },
      "source": [
        "# Add new student and score by assigning value to a key\n",
        "scores[\"Eve\"] = 85\n",
        "scores"
      ],
      "execution_count": null,
      "outputs": [
        {
          "output_type": "execute_result",
          "data": {
            "text/plain": [
              "{'Alice': 100, 'Bob': 90, 'Charlie': 95, 'David': 100, 'Eve': 85}"
            ]
          },
          "metadata": {},
          "execution_count": 4
        }
      ]
    },
    {
      "cell_type": "code",
      "metadata": {
        "colab": {
          "base_uri": "https://localhost:8080/"
        },
        "id": "Fom03f3vqBgL",
        "outputId": "fd08d780-76b9-4369-c4f5-c1c121f006e8"
      },
      "source": [
        "# Edit score of an existing student\n",
        "scores[\"Alice\"] = \"N/A\"\n",
        "scores"
      ],
      "execution_count": null,
      "outputs": [
        {
          "output_type": "execute_result",
          "data": {
            "text/plain": [
              "{'Alice': 'N/A', 'Bob': 90, 'Charlie': 95, 'David': 100, 'Eve': 85}"
            ]
          },
          "metadata": {},
          "execution_count": 5
        }
      ]
    },
    {
      "cell_type": "code",
      "metadata": {
        "colab": {
          "base_uri": "https://localhost:8080/"
        },
        "id": "FEeUJpYq2yel",
        "outputId": "2322f8aa-6e14-4582-92bd-bee22328c3f9"
      },
      "source": [
        "# Delete a student from our dictionary\n",
        "scores.pop(\"Alice\")\n",
        "scores"
      ],
      "execution_count": null,
      "outputs": [
        {
          "output_type": "execute_result",
          "data": {
            "text/plain": [
              "{'Bob': 90, 'Charlie': 95, 'David': 100}"
            ]
          },
          "metadata": {},
          "execution_count": 3
        }
      ]
    },
    {
      "cell_type": "markdown",
      "metadata": {
        "id": "LxscNo7z3Wk4"
      },
      "source": [
        "Similar to List, elements in dictionary are ordered. But due to syntax matter, we cannot simply get first element from scores as scores[1], since in this way we have to have 1 as key and get the value of it"
      ]
    },
    {
      "cell_type": "code",
      "metadata": {
        "colab": {
          "base_uri": "https://localhost:8080/"
        },
        "id": "lLLqXPVK2-iT",
        "outputId": "69fe1e04-90ec-41d5-c579-81cbacc9dad4"
      },
      "source": [
        "list(scores)"
      ],
      "execution_count": null,
      "outputs": [
        {
          "output_type": "execute_result",
          "data": {
            "text/plain": [
              "['Bob', 'Charlie', 'David']"
            ]
          },
          "metadata": {},
          "execution_count": 8
        }
      ]
    },
    {
      "cell_type": "markdown",
      "metadata": {
        "id": "OB6nxovI5-bD"
      },
      "source": [
        "\n",
        "\n",
        "---\n",
        "\n",
        "\n",
        "# ***Conditional Statement***\n",
        "### *if*, *else*, *elif*\n",
        "\n",
        "\n",
        "---\n",
        "\n",
        "*   Conditional statement depends on the boolean to process\n"
      ]
    },
    {
      "cell_type": "code",
      "metadata": {
        "colab": {
          "base_uri": "https://localhost:8080/"
        },
        "id": "AgLmN4Dn6aG3",
        "outputId": "d14f8652-27fe-4404-a19b-76dae343c0f7"
      },
      "source": [
        "# scores = {\"Alice\": 90, \"Bob\": 85, \"Charlie\": 40, \"David\": 100, \"Eva\": 55}\n",
        "scores = {\"Student\": 55}\n",
        "scores"
      ],
      "execution_count": null,
      "outputs": [
        {
          "output_type": "execute_result",
          "data": {
            "text/plain": [
              "{'Student': 55}"
            ]
          },
          "metadata": {},
          "execution_count": 24
        }
      ]
    },
    {
      "cell_type": "code",
      "metadata": {
        "colab": {
          "base_uri": "https://localhost:8080/"
        },
        "id": "krCR90dZ6sRa",
        "outputId": "1778af31-6501-48fa-dee8-7b656ce946ba"
      },
      "source": [
        "# Suppose we have 60 as boundary of whether the student fails the exam\n",
        "if scores[\"Student\"] < 60:\n",
        "  print(\"You fail the exam :(\")\n",
        "else:\n",
        "  print(\"Congratuations! You pass the exam :)\")"
      ],
      "execution_count": null,
      "outputs": [
        {
          "output_type": "stream",
          "name": "stdout",
          "text": [
            "You fail the exam :(\n"
          ]
        }
      ]
    },
    {
      "cell_type": "code",
      "metadata": {
        "colab": {
          "base_uri": "https://localhost:8080/"
        },
        "id": "AO_XqvnQ7K7w",
        "outputId": "f1c59d29-5284-4f41-8aac-e57496d7eaf8"
      },
      "source": [
        "# We now want to loose our logistics, \n",
        "# that people got 50-60 can have a second chance to take the exam\n",
        "if scores[\"Student\"] < 50:\n",
        "  print(\"You fail the exam :(\")\n",
        "elif scores[\"Student\"] < 60:\n",
        "  print(\"You get another chance to take the exam!\")\n",
        "else:\n",
        "  print(\"Congratuations! You pass the exam :)\")\n"
      ],
      "execution_count": null,
      "outputs": [
        {
          "output_type": "stream",
          "name": "stdout",
          "text": [
            "You get another chance to take the exam!\n"
          ]
        }
      ]
    },
    {
      "cell_type": "markdown",
      "metadata": {
        "id": "YxSk18b1_oo7"
      },
      "source": [
        "It seems like using conditional statements can't help much, because it is easy to decide whether a student passed or not.\n",
        "\n",
        "But what if there's a class of student?"
      ]
    },
    {
      "cell_type": "markdown",
      "metadata": {
        "id": "VXBanlFd31Fp"
      },
      "source": [
        "\n",
        "\n",
        "---\n",
        "\n",
        "\n",
        "# ***Loops***\n",
        "### *for loop* and *while loop*\n",
        "\n",
        "\n",
        "---\n",
        "\n",
        "*   What is a loop?\n",
        "*   In what situation do we want to use a loop?\n",
        "*   For what data type can we use a loop?\n",
        "\n"
      ]
    },
    {
      "cell_type": "code",
      "metadata": {
        "colab": {
          "base_uri": "https://localhost:8080/"
        },
        "id": "7Vqh5XPI4MRC",
        "outputId": "509d8dff-e246-4628-c696-d51dad24dfff"
      },
      "source": [
        "# Use for loop\n",
        "scores = {\"Alice\": 90, \"Bob\": 85, \"Charlie\": 40, \"David\": 100, \"Eva\": 55}\n",
        "\n",
        "for name in scores:\n",
        "  if scores[name] < 50:\n",
        "    print(name + \": You fail the exam :(\")\n",
        "  elif scores[name] < 60:\n",
        "    print(name + \": You get another chance to take the exam!\")\n",
        "  else:\n",
        "    print(name + \": Congratuations! You pass the exam :)\")"
      ],
      "execution_count": null,
      "outputs": [
        {
          "output_type": "stream",
          "name": "stdout",
          "text": [
            "Alice: Congratuations! You pass the exam :)\n",
            "Bob: Congratuations! You pass the exam :)\n",
            "Charlie: You fail the exam :(\n",
            "David: Congratuations! You pass the exam :)\n",
            "Eva: You get another chance to take the exam!\n"
          ]
        }
      ]
    },
    {
      "cell_type": "code",
      "metadata": {
        "colab": {
          "base_uri": "https://localhost:8080/"
        },
        "id": "3KMm11fD7cKI",
        "outputId": "0d977835-7c5a-40ab-9509-ef9bd3bd7678"
      },
      "source": [
        "list(scores.keys())"
      ],
      "execution_count": null,
      "outputs": [
        {
          "output_type": "execute_result",
          "data": {
            "text/plain": [
              "['Alice', 'Bob', 'Charlie', 'David', 'Eva']"
            ]
          },
          "metadata": {},
          "execution_count": 10
        }
      ]
    },
    {
      "cell_type": "code",
      "metadata": {
        "colab": {
          "base_uri": "https://localhost:8080/"
        },
        "id": "9qZP8YXp5YJh",
        "outputId": "b2de46ac-fa98-4c33-f67e-f85a24b63a4c"
      },
      "source": [
        "# Use while loop\n",
        "while scores:\n",
        "  name = list(scores.keys()).pop(0)\n",
        "  if scores[name] < 50:\n",
        "    print(name + \": You fail the exam :(\")\n",
        "  elif scores[name] < 60:\n",
        "    print(name + \": You get another chance to take the exam!\")\n",
        "  else:\n",
        "    print(name + \": Congratuations! You pass the exam :)\")\n",
        "  scores.pop(name)"
      ],
      "execution_count": null,
      "outputs": [
        {
          "output_type": "stream",
          "name": "stdout",
          "text": [
            "Alice: Congratuations! You pass the exam :)\n",
            "Bob: Congratuations! You pass the exam :)\n",
            "Charlie: You fail the exam :(\n",
            "David: Congratuations! You pass the exam :)\n",
            "Eva: You get another chance to take the exam!\n"
          ]
        }
      ]
    },
    {
      "cell_type": "markdown",
      "metadata": {
        "id": "FHGWXmsWAujN"
      },
      "source": [
        "Workshop 2:\n",
        "*   Functions/function parameters\n",
        "*   Libraries\n",
        "*   Trace the code\n",
        "*   Introduce useful study materials\n",
        "*   Brief introduction of Pandas/ Numpy"
      ]
    }
  ]
}